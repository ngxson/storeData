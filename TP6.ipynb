{
 "cells": [
  {
   "cell_type": "markdown",
   "metadata": {
    "colab_type": "text",
    "id": "p2KnGUzBIrhb"
   },
   "source": [
    "# TP 6 : Visualisation et Simulation "
   ]
  },
  {
   "cell_type": "markdown",
   "metadata": {
    "colab_type": "text",
    "id": "2h1LeY8UWl2o"
   },
   "source": [
    "## I. Visualisation avec matplotlib\n",
    "\n",
    "Matplotlib est une excellente librairie graphique pour générer des figures scientifiques en 2D et 3D. Parmi les avanatges de cette librairie, on peut citer :\n",
    "\n",
    "* prise en main facile,\n",
    "* des figures de haute qualité et plusieurs formats PNG, PDF, SVG, EPS et PGF,\n",
    "* le texte peut être formatté en $\\LaTeX$.\n",
    "\n"
   ]
  },
  {
   "cell_type": "markdown",
   "metadata": {
    "colab_type": "text",
    "id": "-ozVHgrxb8UE"
   },
   "source": [
    "Importer le module `matplotlib` pour pouvoir utiliser dans votre programme."
   ]
  },
  {
   "cell_type": "code",
   "execution_count": 21,
   "metadata": {
    "colab": {},
    "colab_type": "code",
    "collapsed": true,
    "id": "c-jPP22GcihP"
   },
   "outputs": [],
   "source": [
    "import matplotlib.pyplot as plt\n",
    "\n",
    "# affichage des graphiques sur Jupyter\n",
    "%matplotlib inline "
   ]
  },
  {
   "cell_type": "markdown",
   "metadata": {
    "colab_type": "text",
    "id": "Fn7V5JZ4jyhk"
   },
   "source": [
    "### \"Scatter plot\" (nuage de points)"
   ]
  },
  {
   "cell_type": "markdown",
   "metadata": {
    "colab_type": "text",
    "id": "9n9OV0v2dsC8"
   },
   "source": [
    "Commençons par créer des points à afficher. "
   ]
  },
  {
   "cell_type": "code",
   "execution_count": 22,
   "metadata": {
    "colab": {},
    "colab_type": "code",
    "collapsed": true,
    "id": "ROjaE4Upd8uU"
   },
   "outputs": [],
   "source": [
    "xs = range(1, 25)\n",
    "ys = [1 / x for x in xs]\n"
   ]
  },
  {
   "cell_type": "markdown",
   "metadata": {
    "colab_type": "text",
    "id": "ugKytfTBeYo2"
   },
   "source": [
    "Pour dessiner un \"scatter plot\" (nuage de point), on utilise la méthode `scatter`."
   ]
  },
  {
   "cell_type": "code",
   "execution_count": 23,
   "metadata": {
    "colab": {},
    "colab_type": "code",
    "id": "Ul_DphImeSDC"
   },
   "outputs": [
    {
     "data": {
      "text/plain": [
       "<matplotlib.collections.PathCollection at 0x222cb9996a0>"
      ]
     },
     "execution_count": 23,
     "metadata": {},
     "output_type": "execute_result"
    },
    {
     "data": {
      "image/png": "[encoded data removed]",
      "text/plain": [
       "<Figure size 432x288 with 1 Axes>"
      ]
     },
     "metadata": {},
     "output_type": "display_data"
    }
   ],
   "source": [
    "plt.scatter(xs, ys)"
   ]
  },
  {
   "cell_type": "markdown",
   "metadata": {
    "colab_type": "text",
    "id": "CDHEUZ6Sfpti"
   },
   "source": [
    "On peut combiner ce graphique avec un autre ensemble de points. Créons d'autres points."
   ]
  },
  {
   "cell_type": "code",
   "execution_count": 24,
   "metadata": {
    "colab": {},
    "colab_type": "code",
    "collapsed": true,
    "id": "Q3mk8CiVf6mi"
   },
   "outputs": [],
   "source": [
    "zs = [1 / (25 - x) for x in xs]"
   ]
  },
  {
   "cell_type": "markdown",
   "metadata": {
    "colab_type": "text",
    "id": "i6rUouyKgS38"
   },
   "source": [
    "Afficher les deux ensembles de points dans un même graphique."
   ]
  },
  {
   "cell_type": "code",
   "execution_count": 25,
   "metadata": {
    "colab": {},
    "colab_type": "code",
    "id": "Y7rD6BCOgcbf"
   },
   "outputs": [
    {
     "data": {
      "text/plain": [
       "<matplotlib.collections.PathCollection at 0x222cb72e128>"
      ]
     },
     "execution_count": 25,
     "metadata": {},
     "output_type": "execute_result"
    },
    {
     "data": {
      "image/png": "[encoded data removed]",
      "text/plain": [
       "<Figure size 432x288 with 1 Axes>"
      ]
     },
     "metadata": {},
     "output_type": "display_data"
    }
   ],
   "source": [
    "plt.scatter(xs, ys)\n",
    "plt.scatter(xs, zs)"
   ]
  },
  {
   "cell_type": "markdown",
   "metadata": {
    "colab_type": "text",
    "id": "jLbThp4rgxcL"
   },
   "source": [
    "Pour ajouter une légende, des axes et un titre à notre graphique (qui peuvent include du code $\\LaTeX$) : \n"
   ]
  },
  {
   "cell_type": "code",
   "execution_count": 26,
   "metadata": {
    "colab": {},
    "colab_type": "code",
    "id": "8Ei5eAY0hWCQ"
   },
   "outputs": [
    {
     "data": {
      "text/plain": [
       "<matplotlib.legend.Legend at 0x222cb6c0ef0>"
      ]
     },
     "execution_count": 26,
     "metadata": {},
     "output_type": "execute_result"
    },
    {
     "data": {
      "image/png": "[encoded data removed]",
      "text/plain": [
       "<Figure size 432x288 with 1 Axes>"
      ]
     },
     "metadata": {},
     "output_type": "display_data"
    }
   ],
   "source": [
    "plt.scatter(xs, ys, label=\"$y=\\\\frac{1}{x}$\")\n",
    "plt.scatter(xs, zs, label=\"$y=\\\\frac{1}{25 - x}$\")\n",
    "\n",
    "plt.xlabel(\"$x$\")\n",
    "plt.ylabel(\"Valeur\")\n",
    "plt.title(\"Mon premier \\\"scatter plot\\\" \")\n",
    "\n",
    "plt.legend()"
   ]
  },
  {
   "cell_type": "markdown",
   "metadata": {
    "colab_type": "text",
    "id": "g7DmoTAuiFa6"
   },
   "source": [
    "**Questions : **\n",
    "1. Dessiner un \"scatter plot\" avec les points suivants :\n",
    "```\n",
    "xs = range(200)\n",
    "ys = [(100 - x) ** 2 for x in xs]\n",
    "```\n",
    "\n",
    "2. Ajouter une légende, des axes et un titre au graphique.\n",
    "\n"
   ]
  },
  {
   "cell_type": "code",
   "execution_count": 27,
   "metadata": {
    "colab": {},
    "colab_type": "code",
    "id": "LQTyH3jOiSGx"
   },
   "outputs": [
    {
     "data": {
      "text/plain": [
       "<matplotlib.collections.PathCollection at 0x222cb7eaf98>"
      ]
     },
     "execution_count": 27,
     "metadata": {},
     "output_type": "execute_result"
    },
    {
     "data": {
      "image/png": "[encoded data removed]",
      "text/plain": [
       "<Figure size 432x288 with 1 Axes>"
      ]
     },
     "metadata": {},
     "output_type": "display_data"
    }
   ],
   "source": [
    "xs = range(200)\n",
    "ys = [(100 - x) ** 2 for x in xs]\n",
    "plt.scatter(xs, ys)"
   ]
  },
  {
   "cell_type": "markdown",
   "metadata": {
    "colab_type": "text",
    "id": "pW6XxrBmySq5"
   },
   "source": [
    "## II. Simulation d'un pendule\n",
    "\n",
    "Le but de cette partie est de simuler un pendule simple.\n",
    "\n",
    "On considère un pendule simple décrit par le modèle suivant : $$\\ddot\\theta  + \\frac{b}{m} \\dot\\theta + \\frac{g}{L} \\sin(\\theta) = 0,$$\n",
    "\n",
    "avec \n",
    "* $\\ddot \\theta$ : accélération angulaire du pendule\n",
    "* $\\dot \\theta$ : vitesse angulaire\n",
    "* $\\theta$ : élongation angulaire\n",
    "* $g$ : accélération due à la pesanteur (${\\displaystyle g\\simeq 9,81\\ m.s^{-2}}$). \n",
    "* $L$ : la longueur du pendule\n",
    "* $b$ : constante\n",
    "* $m$ : poids de la masse"
   ]
  },
  {
   "cell_type": "markdown",
   "metadata": {
    "colab_type": "text",
    "id": "6PYtKWNt2ebl"
   },
   "source": [
    "En convertissant cette équation différentielle de second ordre en un système d'équations du premier ordre, on obtient : \n",
    "\n",
    "$\\dot \\theta_2 = -\\displaystyle\\frac{b}{m}\\theta_2 - \\frac{g}{L} \\sin(\\theta_1)$\n",
    "\n",
    "$\\dot \\theta_1 = \\theta_2$\n",
    "\n",
    "avec $\\theta_1 = \\theta$ et $\\theta_2 = \\dot \\theta$."
   ]
  },
  {
   "cell_type": "markdown",
   "metadata": {
    "colab_type": "text",
    "id": "s30oZdwq34xG"
   },
   "source": [
    "Importer les libraires : math (fonctions mathématiques), matplotlib (visualisation), scipy (calcul sicentifique) et os (interface système d'exploitation). Pour plus de sétails sur l'importation de modules en Python, voir la Section IV."
   ]
  },
  {
   "cell_type": "code",
   "execution_count": 28,
   "metadata": {
    "colab": {},
    "colab_type": "code",
    "collapsed": true,
    "id": "zQVg0DAN4YmB"
   },
   "outputs": [],
   "source": [
    "import math\n",
    "import numpy as np\n",
    "from scipy.integrate import odeint\n",
    "import matplotlib.pyplot as plt\n",
    "import os"
   ]
  },
  {
   "cell_type": "markdown",
   "metadata": {
    "colab_type": "text",
    "id": "QF1w4sVc4rwD"
   },
   "source": [
    "Fixer les paramètres du modèle."
   ]
  },
  {
   "cell_type": "code",
   "execution_count": 29,
   "metadata": {
    "colab": {},
    "colab_type": "code",
    "collapsed": true,
    "id": "ihEgPlSi43aL"
   },
   "outputs": [],
   "source": [
    "g = 9.81        # accélération due à la pesanteur (m/s^2)\n",
    "L = 1           # longueur du pendule (m)\n",
    "b = 1.5         # facteur constant (kg/s)\n",
    "m = 1           # masse (kg)"
   ]
  },
  {
   "cell_type": "markdown",
   "metadata": {
    "colab_type": "text",
    "id": "5W10lpnqOyeH"
   },
   "source": [
    "La fonction suivante permet d'afficher le pendule en fonction des ses coordonnées cartésiennes."
   ]
  },
  {
   "cell_type": "code",
   "execution_count": 30,
   "metadata": {
    "colab": {},
    "colab_type": "code",
    "collapsed": true,
    "id": "RrrhD1jrALbN",
    "scrolled": true
   },
   "outputs": [],
   "source": [
    "def penduleFromXY(x,y,time):\n",
    "    plt.figure()\n",
    "    plt.plot(x,y,'bo',markersize=20)\n",
    "    plt.plot([0,x], [0,y])\n",
    "    plt.xlim(-L-0.5,L+0.5)\n",
    "    plt.ylim(-L-0.5,L+0.5)\n",
    "    plt.xlabel('x-direction')\n",
    "    plt.ylabel('y-direction')\n",
    "    plt.title(\"Temps :  %.2f\" %time)"
   ]
  },
  {
   "cell_type": "markdown",
   "metadata": {
    "colab_type": "text",
    "id": "8sPtl8l-ACHy"
   },
   "source": [
    "Le code suivant permet d'afficher le pendule avec un angle 0. Modifier le code de `x` et `y` pour donner une représentation qui dépende de l'angle. "
   ]
  },
  {
   "cell_type": "code",
   "execution_count": 31,
   "metadata": {
    "colab": {},
    "colab_type": "code",
    "id": "-GQ1NC9T_tqv"
   },
   "outputs": [
    {
     "data": {
      "image/png": "[encoded data removed]",
      "text/plain": [
       "<Figure size 432x288 with 1 Axes>"
      ]
     },
     "metadata": {},
     "output_type": "display_data"
    }
   ],
   "source": [
    "penduleFromXY(0,-L,0)\n",
    "plt.show()"
   ]
  },
  {
   "cell_type": "markdown",
   "metadata": {
    "colab_type": "text",
    "id": "MrJFTv7ZOyee"
   },
   "source": [
    "On souhaite déterminer la position du pendule en fonction de son angle $\\theta$. La formule mathémathique nous donne :\n",
    "    \n",
    "$x = \\sin(\\theta)\\times L$\n",
    "\n",
    "$y = -cos(\\theta)\\times L$\n",
    "    \n",
    "Les fonctions trigonométriques de python peuvent être appelées de la manière suiante :"
   ]
  },
  {
   "cell_type": "code",
   "execution_count": 32,
   "metadata": {
    "colab": {},
    "colab_type": "code",
    "id": "t_Lj2uQOOyeg"
   },
   "outputs": [
    {
     "name": "stdout",
     "output_type": "stream",
     "text": [
      "0.7071063120935576 0.5000007660251953\n"
     ]
    }
   ],
   "source": [
    "pi = 3.14159\n",
    "x = np.sin(pi/4)\n",
    "y = np.cos(pi/3)\n",
    "print(x,y)"
   ]
  },
  {
   "cell_type": "markdown",
   "metadata": {
    "colab_type": "text",
    "id": "p08NJ4U8Oye3"
   },
   "source": [
    "**Questions :** \n",
    "1. Ecrire une fonction qui prend en paramètre un angle et affiche le pendule à la position déterminée en fonction de cet angle.\n",
    "\n",
    "2. Afficher le pendule à la position $\\displaystyle\\frac{\\pi}{4}$."
   ]
  },
  {
   "cell_type": "code",
   "execution_count": 33,
   "metadata": {
    "colab": {},
    "colab_type": "code",
    "id": "xR5iiMDfOye_"
   },
   "outputs": [
    {
     "data": {
      "image/png": "[encoded data removed]",
      "text/plain": [
       "<Figure size 432x288 with 1 Axes>"
      ]
     },
     "metadata": {},
     "output_type": "display_data"
    }
   ],
   "source": [
    "# Code à compléter\n",
    "def pendule(angle, time):\n",
    "    x = np.sin(angle)\n",
    "    y = np.cos(angle)\n",
    "    penduleFromXY(x, y, time)\n",
    "    #plt.show()\n",
    "pendule(math.pi/4, 0)"
   ]
  },
  {
   "cell_type": "markdown",
   "metadata": {
    "colab_type": "text",
    "id": "daQiTb0SOyfK"
   },
   "source": [
    "Nous allons désormais déterminer l'angle en fonction du temps en partant des conditions initiales qui sont l'angle initial et la vitesse (angulaire) initiale. On détermine l'accélération du pendule grâce à l'équation différentielle vue plus haut."
   ]
  },
  {
   "cell_type": "code",
   "execution_count": 34,
   "metadata": {
    "colab": {},
    "colab_type": "code",
    "id": "hxR-lxPVOyfN"
   },
   "outputs": [
    {
     "name": "stdout",
     "output_type": "stream",
     "text": [
      "-6.9367129216378\n"
     ]
    }
   ],
   "source": [
    "def acceleration(angle,speed): #acceleration angulaire\n",
    "    return -b/m*speed -g/L*np.sin(angle)\n",
    "\n",
    "print (acceleration(pi/4,0))"
   ]
  },
  {
   "cell_type": "markdown",
   "metadata": {
    "colab_type": "text",
    "id": "bRc1AgxEOyfb"
   },
   "source": [
    "Nous allons discrétiser le temps de manière à utiliser l'approximation suivante.\n",
    "\n",
    "$angle(t+timeStep) = angle(t)+speed(t)\\times timeStep$\n",
    "\n",
    "$speed(t+timeStep) = speed(t) + acceleration(t)\\times timeStep$\n",
    "\n",
    "**Question :** Ecrire une fonction qui renvoie une liste de deux éléments `[newAngle,newSpeed]` après l'écoulement de `timeStep` en utilisant l'approximation si dessus."
   ]
  },
  {
   "cell_type": "code",
   "execution_count": 35,
   "metadata": {
    "colab": {},
    "colab_type": "code",
    "collapsed": true,
    "id": "ZRYkEHEZOyfc"
   },
   "outputs": [],
   "source": [
    "# Code à compléter\n",
    "def calcNewTimeStep(angle, speed, timeStep):\n",
    "    newAngle = angle + speed * timeStep\n",
    "    newSpeed = speed + acceleration(angle, speed) * timeStep\n",
    "    return [newAngle, newSpeed]"
   ]
  },
  {
   "cell_type": "markdown",
   "metadata": {
    "colab_type": "text",
    "id": "5LMLNOhVOyfg"
   },
   "source": [
    "**Question :** Ecrire une fonction `trajectory` qui renvoie la liste des angles et la liste des vitesses successives avec un écart de `timeStep`. La liste doit être de longueur `stepCount` donnée en paramètre."
   ]
  },
  {
   "cell_type": "code",
   "execution_count": 36,
   "metadata": {
    "colab": {},
    "colab_type": "code",
    "collapsed": true,
    "id": "n4I9geCWOyfi"
   },
   "outputs": [],
   "source": [
    "# Code à compléter\n",
    "def trajectory(initialAngle, initialSpeed, timeStep, stepCount):\n",
    "    angles, speeds = [], []\n",
    "    oldAngle, oldSpeed = initialAngle, initialSpeed\n",
    "    for i in range(stepCount + 1):\n",
    "        newStep = calcNewTimeStep(oldAngle, oldSpeed, timeStep)\n",
    "        angles.append(newStep[0])\n",
    "        oldAngle = newStep[0]\n",
    "        speeds.append(newStep[1])\n",
    "        oldSpeed = newStep[1]\n",
    "    return [angles, speeds]"
   ]
  },
  {
   "cell_type": "markdown",
   "metadata": {
    "colab_type": "text",
    "id": "5CFzmYqYOyfr"
   },
   "source": [
    "La fonction `trajectory` est utilisée dans le code suivant entre le temps 0 et 15 secondes avec des intervalles de 0.1 seconde avec un angle de 0 radian et une vitesse angulaire de 3 radians/s."
   ]
  },
  {
   "cell_type": "code",
   "execution_count": 37,
   "metadata": {
    "colab": {},
    "colab_type": "code",
    "collapsed": true,
    "id": "QTqykrzxOyfs"
   },
   "outputs": [],
   "source": [
    "stepCount = 150\n",
    "startingTime = 0\n",
    "endTime = 15\n",
    "timeStep = 0.1\n",
    "initialAngle = 0\n",
    "initialSpeed = 3\n",
    "steps = np.arange(startingTime, endTime + timeStep, timeStep)\n",
    "[angles, speeds] = trajectory(initialAngle, initialSpeed, timeStep, stepCount)"
   ]
  },
  {
   "cell_type": "markdown",
   "metadata": {
    "colab_type": "text",
    "id": "aX9G7ikM-IZ4"
   },
   "source": [
    "**Question :** Utiliser `steps`(abscisse) `angles` et `speeds`(les ordonnées des deux courbes) pour afficher le résultat obtenu dans un pyplot. Les légendes des  axes doivent être *Temps(s)* pour les abscisses et  *'Dép. angulaire(rad) and Vitesse angulaire (rad/s)'* pour les ordonnées.\n",
    "\n"
   ]
  },
  {
   "cell_type": "code",
   "execution_count": 54,
   "metadata": {
    "colab": {},
    "colab_type": "code",
    "id": "fdwQoRYA7ufk"
   },
   "outputs": [
    {
     "data": {
      "image/png": "[encoded data removed]",
      "text/plain": [
       "<Figure size 432x288 with 1 Axes>"
      ]
     },
     "metadata": {},
     "output_type": "display_data"
    },
    {
     "data": {
      "image/png": "[encoded data removed]",
      "text/plain": [
       "<Figure size 432x288 with 1 Axes>"
      ]
     },
     "metadata": {},
     "output_type": "display_data"
    }
   ],
   "source": [
    "# Code à compléter\n",
    "plt.figure()\n",
    "plt.title(\"Temps et Dép. angulaire\")\n",
    "plt.scatter(steps, angles)\n",
    "plt.xlabel(\"Temps(s)\")\n",
    "plt.ylabel(\"Dép. angulaire(rad)\")\n",
    "plt.show()\n",
    "\n",
    "plt.figure()\n",
    "plt.title(\"Temps et Vitesse angulaire\")\n",
    "plt.scatter(steps, speeds)\n",
    "plt.xlabel(\"Temps(s)\")\n",
    "plt.ylabel(\"Vitesse angulaire (rad/s)\")\n",
    "plt.show()"
   ]
  },
  {
   "cell_type": "markdown",
   "metadata": {
    "colab_type": "text",
    "id": "bqVRu-_4Cray"
   },
   "source": [
    "Le programme suivant permet de sauvegarder toutes les figures de la simulation."
   ]
  },
  {
   "cell_type": "code",
   "execution_count": 39,
   "metadata": {
    "colab": {},
    "colab_type": "code",
    "collapsed": true,
    "id": "C0EDWOzSOygB"
   },
   "outputs": [],
   "source": [
    "def pendulePrint(angle, time):\n",
    "    pendule(angle, time)\n",
    "    filenumber = format(time, \"05\")\n",
    "    filename = \"image{}.png\".format(filenumber)\n",
    "    plt.savefig(filename)\n",
    "    plt.close()\n",
    "\n",
    "for step in range(0, len(angles)) :\n",
    "    pendulePrint(angles[step], step)"
   ]
  },
  {
   "cell_type": "markdown",
   "metadata": {
    "colab_type": "text",
    "id": "r6TyZQJZKjx5"
   },
   "source": [
    "Créer une video à partir des images enregistrées (utilisant la librairie ffmpeg)."
   ]
  },
  {
   "cell_type": "code",
   "execution_count": 40,
   "metadata": {
    "colab": {},
    "colab_type": "code",
    "id": "hdjGfWBSKqES"
   },
   "outputs": [
    {
     "data": {
      "text/plain": [
       "1"
      ]
     },
     "execution_count": 40,
     "metadata": {},
     "output_type": "execute_result"
    }
   ],
   "source": [
    "os.system(\"ffmpeg -f image2 -r 20 -i image%05d.png -vcodec mpeg4 -y pendule.avi\")"
   ]
  },
  {
   "cell_type": "markdown",
   "metadata": {
    "colab_type": "text",
    "id": "x3tpQFWfNSjU"
   },
   "source": [
    "**Question** : changer la position initiale du pendule et refaire la simulation."
   ]
  },
  {
   "cell_type": "code",
   "execution_count": 41,
   "metadata": {
    "collapsed": true
   },
   "outputs": [],
   "source": [
    "# Code à compléter"
   ]
  },
  {
   "cell_type": "markdown",
   "metadata": {
    "colab_type": "text",
    "id": "82KtOq79j9qp"
   },
   "source": [
    "## III. Histogramme"
   ]
  },
  {
   "cell_type": "markdown",
   "metadata": {
    "colab_type": "text",
    "id": "kvhZ0NerkFs_"
   },
   "source": [
    "On sintéresse ici aux histogrammes. Un histogramme est un graphique qui permet la représentation de la répartition d'une variable par des colonnes verticales. "
   ]
  },
  {
   "cell_type": "markdown",
   "metadata": {
    "colab_type": "text",
    "id": "wa6li_bEqP5-"
   },
   "source": [
    "**Questions** : \n",
    "\n",
    "1. Ecrire un programme qui permet de simuler un lancé de dé. Pour ceci utiliser  la méthode `random.randint` qui permet de retourner aléatoirment un entier.\n",
    "\n",
    "2. Répéter la simulation plusieurs fois en stockant le résultat dans une variable nommée `d` et afficher le histogramme avec la commande `h=plt.hist(d,range=[1, 6.2], rwidth=0.5, bottom=0)`.\n",
    "\n",
    "3. Analyser l'affichage obtenu."
   ]
  },
  {
   "cell_type": "code",
   "execution_count": 42,
   "metadata": {
    "colab": {},
    "colab_type": "code",
    "id": "PYoRbNkHdW55"
   },
   "outputs": [
    {
     "data": {
      "image/png": "[encoded data removed]",
      "text/plain": [
       "<Figure size 432x288 with 1 Axes>"
      ]
     },
     "metadata": {},
     "output_type": "display_data"
    }
   ],
   "source": [
    "# Code à compléter\n",
    "import random\n",
    "d = [random.randint(1, 10) for i in range(100)]\n",
    "h = plt.hist(d, range=[1, 6.2], rwidth=0.5, bottom=0)"
   ]
  },
  {
   "cell_type": "markdown",
   "metadata": {
    "colab_type": "text",
    "id": "IwNCleL3cgYe"
   },
   "source": [
    "On s'intéresse maintenant à générer des points à partir d'une loi de distribution. Commençons par créer des points générés à partir de la loi exponentielle par exemple."
   ]
  },
  {
   "cell_type": "code",
   "execution_count": 43,
   "metadata": {
    "colab": {},
    "colab_type": "code",
    "collapsed": true,
    "id": "xIAv2D4Wkw2y"
   },
   "outputs": [],
   "source": [
    "import random  # permet de créer des données aléatoires\n",
    "nombre_de_points = 50000\n",
    "d = [random.expovariate(lambd=.5) for _ in range(nombre_de_points)]"
   ]
  },
  {
   "cell_type": "markdown",
   "metadata": {
    "colab_type": "text",
    "id": "WbaQ-OMOlJoO"
   },
   "source": [
    "Dessinons maintenant l'histogramme."
   ]
  },
  {
   "cell_type": "code",
   "execution_count": 44,
   "metadata": {
    "colab": {},
    "colab_type": "code",
    "id": "Z3KNYuTylUHD"
   },
   "outputs": [
    {
     "data": {
      "text/plain": [
       "(array([3.3008e+04, 1.1326e+04, 3.7840e+03, 1.2870e+03, 3.7900e+02,\n",
       "        1.3900e+02, 5.0000e+01, 1.7000e+01, 7.0000e+00, 3.0000e+00]),\n",
       " array([6.25539524e-06, 2.16897030e+00, 4.33793434e+00, 6.50689838e+00,\n",
       "        8.67586243e+00, 1.08448265e+01, 1.30137905e+01, 1.51827546e+01,\n",
       "        1.73517186e+01, 1.95206826e+01, 2.16896467e+01]),\n",
       " <a list of 10 Patch objects>)"
      ]
     },
     "execution_count": 44,
     "metadata": {},
     "output_type": "execute_result"
    },
    {
     "data": {
      "image/png": "[encoded data removed]",
      "text/plain": [
       "<Figure size 432x288 with 1 Axes>"
      ]
     },
     "metadata": {},
     "output_type": "display_data"
    }
   ],
   "source": [
    "plt.hist(d)"
   ]
  },
  {
   "cell_type": "markdown",
   "metadata": {
    "colab_type": "text",
    "id": "_AqqN5HZmB9r"
   },
   "source": [
    "Nous pouvons changer le nombre de rectangles et les normaliser (afficher des probabilités au lieu de fréquences)\n"
   ]
  },
  {
   "cell_type": "code",
   "execution_count": 45,
   "metadata": {
    "colab": {},
    "colab_type": "code",
    "id": "iTimlrv-mrwZ"
   },
   "outputs": [
    {
     "data": {
      "image/png": "[encoded data removed]",
      "text/plain": [
       "<Figure size 432x288 with 1 Axes>"
      ]
     },
     "metadata": {},
     "output_type": "display_data"
    }
   ],
   "source": [
    "plt.hist(d, bins=35, density=True);"
   ]
  },
  {
   "cell_type": "markdown",
   "metadata": {
    "colab_type": "text",
    "id": "o2etmH3QpA9U"
   },
   "source": [
    "Il est connu que la loi exponentielle  de paramètre $\\lambda$ a une fonction de densité de probabilité $$f(x) = \\lambda e^{-\\lambda x}.$$\n",
    "\n",
    "On peut inclure la courbe de la densité de probabilité dans le graphique."
   ]
  },
  {
   "cell_type": "code",
   "execution_count": 46,
   "metadata": {
    "colab": {},
    "colab_type": "code",
    "id": "etWi3u5Tqtop"
   },
   "outputs": [
    {
     "data": {
      "image/png": "[encoded data removed]",
      "text/plain": [
       "<Figure size 432x288 with 1 Axes>"
      ]
     },
     "metadata": {},
     "output_type": "display_data"
    }
   ],
   "source": [
    "import math\n",
    "\n",
    "lambd = 0.5\n",
    "valeurs = range(16)\n",
    "fs = [lambd * math.exp(- lambd * x ) for x in valeurs]\n",
    "\n",
    "plt.hist(d, bins=35, density=True)\n",
    "plt.plot(valeurs, fs)"
   ]
  },
  {
   "cell_type": "markdown",
   "metadata": {
    "colab_type": "text",
    "id": "RsKobdptsFVu"
   },
   "source": [
    "Il est possible d'enregistrer la figure dans un fichier."
   ]
  },
  {
   "cell_type": "code",
   "execution_count": 47,
   "metadata": {
    "colab": {},
    "colab_type": "code",
    "id": "B_adtXPDsS72"
   },
   "outputs": [
    {
     "data": {
      "image/png": "[encoded data removed]",
      "text/plain": [
       "<Figure size 432x288 with 1 Axes>"
      ]
     },
     "metadata": {},
     "output_type": "display_data"
    }
   ],
   "source": [
    "plt.hist(d, bins=35, density=True)\n",
    "plt.plot(valeurs, fs)\n",
    "plt.savefig(\"loi_exponentielle.pdf\")"
   ]
  },
  {
   "cell_type": "markdown",
   "metadata": {
    "colab_type": "text",
    "id": "DWiSRN1Ksnik"
   },
   "source": [
    "**Questions** : \n",
    "\n",
    "1.   Utilisant le même code que pour les \"scatter plots\", ajouter une légende, des axes et un titre à l'histogramme.\n",
    "\n",
    "2.   Représenter graphiquement un histogramme de données générées par une loi normale (utilisant `random.normalvariate`).\n",
    "\n"
   ]
  },
  {
   "cell_type": "code",
   "execution_count": 65,
   "metadata": {
    "colab": {},
    "colab_type": "code",
    "id": "t3w8yr2Ntf_b"
   },
   "outputs": [
    {
     "data": {
      "image/png": "[encoded data removed]",
      "text/plain": [
       "<Figure size 432x288 with 1 Axes>"
      ]
     },
     "metadata": {},
     "output_type": "display_data"
    },
    {
     "data": {
      "image/png": "[encoded data removed]",
      "text/plain": [
       "<Figure size 432x288 with 1 Axes>"
      ]
     },
     "metadata": {},
     "output_type": "display_data"
    }
   ],
   "source": [
    "# Code à compléter\n",
    "plt.figure()\n",
    "plt.title(\"Histogramme 1\")\n",
    "plt.hist(d, bins=35, density=True)\n",
    "plt.plot(valeurs, fs, label=\"$f(x) = \\lambda e^{-\\lambda x}.$\")\n",
    "plt.xlabel(\"$x$\")\n",
    "plt.ylabel(\"$f(x)$\")\n",
    "plt.legend()\n",
    "\n",
    "arrx = range(100)\n",
    "arry = [random.normalvariate(10,1) for i in arrx]\n",
    "plt.figure()\n",
    "plt.title(\"Histogramme 2\")\n",
    "plt.hist(d, bins=35, density=True)\n",
    "plt.plot(arrx, arry)\n",
    "plt.xlabel(\"$x$\")\n",
    "plt.ylabel(\"$f(x)$\")\n",
    "plt.show()"
   ]
  },
  {
   "cell_type": "markdown",
   "metadata": {
    "colab_type": "text",
    "id": "NNcJMidaJAYU"
   },
   "source": [
    "## IV. Les modules en Python\n",
    "\n",
    "* Si votre programme devient long, vous pouvez vouloir le couper en plusieurs fichiers pour une maintenance plus facile. Vous pouvez également vouloir utiliser dans plusieurs programmes une fonction pratique que vous avez écrite sans copier sa définition dans chaque programme. \n",
    "\n",
    "* Les modules en Python permettent de construire un programme utilisant du code réparti dans plusieurs fichiers.\n",
    "\n",
    "* Un module Python est un fichier `.py` contenant des définitions et des instructions Python.\n",
    "\n",
    "* La commande `import` permet à un programme d'accéder à un module."
   ]
  },
  {
   "cell_type": "markdown",
   "metadata": {
    "colab_type": "text",
    "id": "15kQFUnSI1xd"
   },
   "source": [
    "**Questions** : \n",
    "1. Créer un fichier `cercle.py` contenant l'instruction `pi = 3.14159`  permettant la déclaration de la variable $\\pi$. Ajouter dans le fichier les fonctions permettant de calculer :\n",
    "     * l'aire d'un cercle\n",
    "     * la circonférence d'un cercle\n",
    "     * la surface d'une sphère\n",
    "     * le volume d'une sphere\n",
    "```  \n",
    "```\n",
    "\n",
    "2. Saisir et exécuter le code ci-dessous.\n",
    "```\n",
    "import cercle\n",
    "print(cercle.pi)\n",
    "print(cercle.aire(3))\n",
    "print(cercle.circonference(3))\n",
    "print(cercle.surfaceSphere(3))\n",
    "```\n",
    "```  \n",
    "```\n",
    "3.  Exécuter le code ci-dessous et comparer le résultat avec 2. \n",
    "```\n",
    "from circle import *\n",
    "print(pi)\n",
    "print(cercle.pi)\n",
    "```\n",
    "\n",
    "\n"
   ]
  },
  {
   "cell_type": "code",
   "execution_count": 66,
   "metadata": {
    "colab": {},
    "colab_type": "code",
    "id": "bo4KmOraSbBi"
   },
   "outputs": [
    {
     "name": "stdout",
     "output_type": "stream",
     "text": [
      "3.14159\n",
      "28.27431\n",
      "18.849539999999998\n",
      "113.09724\n"
     ]
    }
   ],
   "source": [
    "# Code à compléter\n",
    "import cercle\n",
    "print(cercle.pi)\n",
    "print(cercle.aire(3))\n",
    "print(cercle.circonference(3))\n",
    "print(cercle.surfaceSphere(3))"
   ]
  },
  {
   "cell_type": "code",
   "execution_count": 68,
   "metadata": {},
   "outputs": [
    {
     "name": "stdout",
     "output_type": "stream",
     "text": [
      "3.14159\n",
      "3.14159\n"
     ]
    }
   ],
   "source": [
    "from cercle import *\n",
    "print(pi)\n",
    "print(cercle.pi) # ERR ON QUESTION"
   ]
  },
  {
   "cell_type": "code",
   "execution_count": null,
   "metadata": {
    "collapsed": true
   },
   "outputs": [],
   "source": []
  }
 ],
 "metadata": {
  "colab": {
   "collapsed_sections": [],
   "name": "MEO_TP6_sol.ipynb",
   "provenance": [],
   "version": "0.3.2"
  },
  "kernelspec": {
   "display_name": "Python 3",
   "language": "python",
   "name": "python3"
  },
  "language_info": {
   "codemirror_mode": {
    "name": "ipython",
    "version": 3
   },
   "file_extension": ".py",
   "mimetype": "text/x-python",
   "name": "python",
   "nbconvert_exporter": "python",
   "pygments_lexer": "ipython3",
   "version": "3.6.4"
  }
 },
 "nbformat": 4,
 "nbformat_minor": 1
}
